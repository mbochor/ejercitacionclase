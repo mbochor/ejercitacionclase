{
 "cells": [
  {
   "cell_type": "code",
   "execution_count": 1,
   "metadata": {},
   "outputs": [
    {
     "data": {
      "text/plain": [
       "'C:\\\\Users\\\\Milagros\\\\OneDrive\\\\Escritorio\\\\UTN\\\\5To AÑO\\\\Ciencia de datos'"
      ]
     },
     "execution_count": 1,
     "metadata": {},
     "output_type": "execute_result"
    }
   ],
   "source": [
    "pwd"
   ]
  },
  {
   "cell_type": "code",
   "execution_count": 2,
   "metadata": {},
   "outputs": [],
   "source": [
    "#Importo librerias\n",
    "\n",
    "import numpy as np\n",
    "import pandas as pd\n",
    "import matplotlib.pyplot as plt\n",
    "import seaborn as sns\n",
    "from sklearn.model_selection import train_test_split, GridSearchCV\n",
    "from sklearn.preprocessing import PolynomialFeatures\n",
    "\n",
    "#https://scikit-learn.org/stable/modules/classes.html#module-sklearn.preprocessing\n",
    "from sklearn.preprocessing import StandardScaler,MinMaxScaler\n",
    "\n",
    "# https://scikit-learn.org/stable/modules/linear_model.html\n",
    "from sklearn.linear_model import LinearRegression , Ridge\n",
    "from sklearn.svm import SVR\n",
    "from sklearn.metrics import r2_score, mean_squared_error, mean_absolute_error"
   ]
  },
  {
   "cell_type": "code",
   "execution_count": 3,
   "metadata": {},
   "outputs": [],
   "source": [
    "#Importo el excel de train y test\n",
    "df_train = pd.read_csv(r'C:\\Users\\Milagros\\OneDrive\\Escritorio\\UTN\\5To AÑO\\Ciencia de datos\\Xy_train.csv', delimiter=\",\")\n",
    "df_test = pd.read_csv(r'C:\\Users\\Milagros\\OneDrive\\Escritorio\\UTN\\5To AÑO\\Ciencia de datos\\X_test.csv', delimiter=\",\")"
   ]
  },
  {
   "cell_type": "code",
   "execution_count": 4,
   "metadata": {},
   "outputs": [
    {
     "data": {
      "text/html": [
       "<div>\n",
       "<style scoped>\n",
       "    .dataframe tbody tr th:only-of-type {\n",
       "        vertical-align: middle;\n",
       "    }\n",
       "\n",
       "    .dataframe tbody tr th {\n",
       "        vertical-align: top;\n",
       "    }\n",
       "\n",
       "    .dataframe thead th {\n",
       "        text-align: right;\n",
       "    }\n",
       "</style>\n",
       "<table border=\"1\" class=\"dataframe\">\n",
       "  <thead>\n",
       "    <tr style=\"text-align: right;\">\n",
       "      <th></th>\n",
       "      <th>X</th>\n",
       "      <th>y</th>\n",
       "    </tr>\n",
       "  </thead>\n",
       "  <tbody>\n",
       "    <tr>\n",
       "      <th>0</th>\n",
       "      <td>2.273360</td>\n",
       "      <td>6.054685</td>\n",
       "    </tr>\n",
       "    <tr>\n",
       "      <th>1</th>\n",
       "      <td>3.167583</td>\n",
       "      <td>4.581428</td>\n",
       "    </tr>\n",
       "    <tr>\n",
       "      <th>2</th>\n",
       "      <td>7.973655</td>\n",
       "      <td>5.392507</td>\n",
       "    </tr>\n",
       "    <tr>\n",
       "      <th>3</th>\n",
       "      <td>6.762547</td>\n",
       "      <td>3.108068</td>\n",
       "    </tr>\n",
       "    <tr>\n",
       "      <th>4</th>\n",
       "      <td>3.911096</td>\n",
       "      <td>4.225744</td>\n",
       "    </tr>\n",
       "  </tbody>\n",
       "</table>\n",
       "</div>"
      ],
      "text/plain": [
       "          X         y\n",
       "0  2.273360  6.054685\n",
       "1  3.167583  4.581428\n",
       "2  7.973655  5.392507\n",
       "3  6.762547  3.108068\n",
       "4  3.911096  4.225744"
      ]
     },
     "execution_count": 4,
     "metadata": {},
     "output_type": "execute_result"
    }
   ],
   "source": [
    "df_train.head()"
   ]
  },
  {
   "cell_type": "code",
   "execution_count": 5,
   "metadata": {},
   "outputs": [
    {
     "data": {
      "text/plain": [
       "(100, 2)"
      ]
     },
     "execution_count": 5,
     "metadata": {},
     "output_type": "execute_result"
    }
   ],
   "source": [
    "df_train.shape"
   ]
  },
  {
   "cell_type": "code",
   "execution_count": 6,
   "metadata": {},
   "outputs": [
    {
     "data": {
      "text/html": [
       "<div>\n",
       "<style scoped>\n",
       "    .dataframe tbody tr th:only-of-type {\n",
       "        vertical-align: middle;\n",
       "    }\n",
       "\n",
       "    .dataframe tbody tr th {\n",
       "        vertical-align: top;\n",
       "    }\n",
       "\n",
       "    .dataframe thead th {\n",
       "        text-align: right;\n",
       "    }\n",
       "</style>\n",
       "<table border=\"1\" class=\"dataframe\">\n",
       "  <thead>\n",
       "    <tr style=\"text-align: right;\">\n",
       "      <th></th>\n",
       "      <th>X</th>\n",
       "      <th>y</th>\n",
       "    </tr>\n",
       "  </thead>\n",
       "  <tbody>\n",
       "    <tr>\n",
       "      <th>count</th>\n",
       "      <td>100.000000</td>\n",
       "      <td>100.000000</td>\n",
       "    </tr>\n",
       "    <tr>\n",
       "      <th>mean</th>\n",
       "      <td>4.534694</td>\n",
       "      <td>5.073047</td>\n",
       "    </tr>\n",
       "    <tr>\n",
       "      <th>std</th>\n",
       "      <td>2.734487</td>\n",
       "      <td>2.398315</td>\n",
       "    </tr>\n",
       "    <tr>\n",
       "      <th>min</th>\n",
       "      <td>0.050223</td>\n",
       "      <td>-0.259323</td>\n",
       "    </tr>\n",
       "    <tr>\n",
       "      <th>25%</th>\n",
       "      <td>2.415300</td>\n",
       "      <td>3.735343</td>\n",
       "    </tr>\n",
       "    <tr>\n",
       "      <th>50%</th>\n",
       "      <td>3.999217</td>\n",
       "      <td>4.670649</td>\n",
       "    </tr>\n",
       "    <tr>\n",
       "      <th>75%</th>\n",
       "      <td>6.686171</td>\n",
       "      <td>5.761732</td>\n",
       "    </tr>\n",
       "    <tr>\n",
       "      <th>max</th>\n",
       "      <td>9.728298</td>\n",
       "      <td>13.930549</td>\n",
       "    </tr>\n",
       "  </tbody>\n",
       "</table>\n",
       "</div>"
      ],
      "text/plain": [
       "                X           y\n",
       "count  100.000000  100.000000\n",
       "mean     4.534694    5.073047\n",
       "std      2.734487    2.398315\n",
       "min      0.050223   -0.259323\n",
       "25%      2.415300    3.735343\n",
       "50%      3.999217    4.670649\n",
       "75%      6.686171    5.761732\n",
       "max      9.728298   13.930549"
      ]
     },
     "execution_count": 6,
     "metadata": {},
     "output_type": "execute_result"
    }
   ],
   "source": [
    "df_train.describe()"
   ]
  },
  {
   "cell_type": "code",
   "execution_count": 7,
   "metadata": {},
   "outputs": [
    {
     "data": {
      "text/html": [
       "<div>\n",
       "<style scoped>\n",
       "    .dataframe tbody tr th:only-of-type {\n",
       "        vertical-align: middle;\n",
       "    }\n",
       "\n",
       "    .dataframe tbody tr th {\n",
       "        vertical-align: top;\n",
       "    }\n",
       "\n",
       "    .dataframe thead th {\n",
       "        text-align: right;\n",
       "    }\n",
       "</style>\n",
       "<table border=\"1\" class=\"dataframe\">\n",
       "  <thead>\n",
       "    <tr style=\"text-align: right;\">\n",
       "      <th></th>\n",
       "      <th>X</th>\n",
       "    </tr>\n",
       "  </thead>\n",
       "  <tbody>\n",
       "    <tr>\n",
       "      <th>0</th>\n",
       "      <td>6.170800</td>\n",
       "    </tr>\n",
       "    <tr>\n",
       "      <th>1</th>\n",
       "      <td>6.302022</td>\n",
       "    </tr>\n",
       "    <tr>\n",
       "      <th>2</th>\n",
       "      <td>8.689293</td>\n",
       "    </tr>\n",
       "    <tr>\n",
       "      <th>3</th>\n",
       "      <td>2.376897</td>\n",
       "    </tr>\n",
       "    <tr>\n",
       "      <th>4</th>\n",
       "      <td>2.707320</td>\n",
       "    </tr>\n",
       "  </tbody>\n",
       "</table>\n",
       "</div>"
      ],
      "text/plain": [
       "          X\n",
       "0  6.170800\n",
       "1  6.302022\n",
       "2  8.689293\n",
       "3  2.376897\n",
       "4  2.707320"
      ]
     },
     "execution_count": 7,
     "metadata": {},
     "output_type": "execute_result"
    }
   ],
   "source": [
    "#El df de test solo tiene los valores de x, no tiene las etiqeutas reales de y\n",
    "df_test.head()"
   ]
  },
  {
   "cell_type": "code",
   "execution_count": 8,
   "metadata": {},
   "outputs": [
    {
     "data": {
      "image/png": "[encoded data removed]",
      "text/plain": [
       "<Figure size 360x360 with 6 Axes>"
      ]
     },
     "metadata": {
      "needs_background": "light"
     },
     "output_type": "display_data"
    }
   ],
   "source": [
    "sns.pairplot(df_train)\n",
    "plt.show()"
   ]
  },
  {
   "cell_type": "code",
   "execution_count": 9,
   "metadata": {},
   "outputs": [],
   "source": [
    "#Separo las \"x\" de las \"y\" (etiquetas) del train \n",
    "#Guardo en Xreal, el df de test\n",
    "x = df_train.iloc[:,:-1].values\n",
    "y = df_train.iloc[:,-1].values\n",
    "x_pre = df_test.iloc[:,:,].values\n"
   ]
  },
  {
   "cell_type": "code",
   "execution_count": 10,
   "metadata": {},
   "outputs": [],
   "source": [
    "# Separamos set de entrenamiento y testeo\n",
    "x_train, x_test, y_train, y_test = train_test_split(x,y, test_size=0.25, random_state=1)\n",
    "\n",
    "# Separamos el set X con las features polinomicas (el set Y ya fue separado en la linea anterior) \n",
    "x_poly_train, x_poly_test = train_test_split(x, test_size=0.25, random_state=1)"
   ]
  },
  {
   "cell_type": "code",
   "execution_count": 11,
   "metadata": {},
   "outputs": [],
   "source": [
    "# Defino el escalador con el objeto MinmaxScaler\n",
    "scaler = MinMaxScaler() \n",
    "# Fit para el x train\n",
    "scaler = scaler.fit(x_train)\n",
    "# Transformo los x_train\n",
    "x_train_scaled = scaler.transform(x_train)\n",
    "x_test_scaled = scaler.transform(x_test)"
   ]
  },
  {
   "cell_type": "code",
   "execution_count": 12,
   "metadata": {},
   "outputs": [],
   "source": [
    " # Agrego las features polinomicas (posterior al scaler)\n",
    "# Elijo grado 5\n",
    "grad_poly = 5\n",
    "\n",
    "x_train_poly_scaled = PolynomialFeatures(grad_poly).fit_transform(x_train_scaled)\n",
    "x_test_poly_scaled = PolynomialFeatures(grad_poly).fit_transform(x_test_scaled)"
   ]
  },
  {
   "cell_type": "code",
   "execution_count": 13,
   "metadata": {},
   "outputs": [
    {
     "name": "stdout",
     "output_type": "stream",
     "text": [
      "(75, 1)\n",
      "(75, 6)\n"
     ]
    }
   ],
   "source": [
    "#Comparo la cantidad de columnas que se agregan por las polinomicas\n",
    "print(x_train_scaled.shape)\n",
    "print(x_train_poly_scaled.shape)"
   ]
  },
  {
   "cell_type": "code",
   "execution_count": 14,
   "metadata": {},
   "outputs": [],
   "source": [
    "# Separamos set de entrenamiento y testeo\n",
    "x_train, x_test, y_train, y_test = train_test_split(x,y, test_size=0.25, random_state=1)\n",
    "# Separamos el set X con las features polinomicas (el set Y ya fue separado en la linea anterior) \n",
    "x_poly_train, x_poly_test = train_test_split(x, test_size=0.25, random_state=1)"
   ]
  },
  {
   "cell_type": "code",
   "execution_count": 15,
   "metadata": {},
   "outputs": [],
   "source": [
    "#Creo el df de resultados, para volcar las metricas y poder comparar modelos\n",
    "\n",
    "df_resultados = pd.DataFrame(columns=['Model','Features','R2','MSE','MAE'])"
   ]
  },
  {
   "cell_type": "markdown",
   "metadata": {},
   "source": [
    "# Modelo 1: Regresion lineal (Features lineales)"
   ]
  },
  {
   "cell_type": "code",
   "execution_count": null,
   "metadata": {},
   "outputs": [],
   "source": [
    "\n",
    "#Estimador\n",
    "est = LinearRegression()\n",
    "#Hyperparametros, solo el fit_intercept\n",
    "parameters = {'fit_intercept' : [False, True]}\n",
    "#Folds para cv\n",
    "n_folds = 5\n",
    "#Definimos el objeto grid search con los parametros anteriores\n",
    "gs = GridSearchCV(est, param_grid=parameters, cv=n_folds, refit=True, scoring=\"neg_mean_squared_error\")"
   ]
  },
  {
   "cell_type": "code",
   "execution_count": null,
   "metadata": {},
   "outputs": [],
   "source": [
    "#Entrenamos\n",
    "gs.fit(x_train_scaled, y_train)"
   ]
  },
  {
   "cell_type": "code",
   "execution_count": null,
   "metadata": {},
   "outputs": [],
   "source": [
    "# El mejor estimador y sus hyperparametros\n",
    "print(gs.best_estimator_, \"\\n\")\n",
    "print(gs.best_params_, \"\\n\")\n",
    "print(gs.best_score_, \"\\n\")"
   ]
  },
  {
   "cell_type": "code",
   "execution_count": null,
   "metadata": {},
   "outputs": [],
   "source": [
    "# Preddecimos usando el mejor estimador\n",
    "linear_prediction = gs.best_estimator_.predict(x_test_scaled)\n",
    "#Calculamos las metricas R2, MSE y MAE\n",
    "linear_r2 = r2_score(y_true=y_test, y_pred=linear_prediction)\n",
    "linear_mse = mean_squared_error(y_true=y_test, y_pred=linear_prediction)\n",
    "linear_mae = mean_absolute_error(y_true=y_test, y_pred=linear_prediction)"
   ]
  },
  {
   "cell_type": "code",
   "execution_count": null,
   "metadata": {},
   "outputs": [],
   "source": [
    "#Vamos a plotear Predictions vs True values\n",
    "plt.scatter(linear_prediction, y_test)\n",
    "plt.plot(np.arange(0,100),np.arange(0,100), 'r', label='Identity') #Linea identidad (Predictions = True Values)\n",
    "plt.xlabel('Predictions')\n",
    "plt.ylabel('True Values')\n",
    "plt.legend()\n",
    "print(f'R2 score: {linear_r2:.6f}')\n",
    "print(f'MAE: {linear_mae:.6f}')\n",
    "print(f'MSE: {linear_mse:.6f}')"
   ]
  },
  {
   "cell_type": "code",
   "execution_count": null,
   "metadata": {},
   "outputs": [],
   "source": [
    "#A simple vista el R2 me dio muy bajo "
   ]
  },
  {
   "cell_type": "code",
   "execution_count": null,
   "metadata": {},
   "outputs": [],
   "source": [
    "#Guardo los resultados en el df de resultados\n",
    "df_resultados = df_resultados.append({'Model':'Linear',\n",
    "                                'Features':'Lineal',\n",
    "                                'R2':linear_r2,\n",
    "                                'MSE':linear_mse,\n",
    "                                'MAE':linear_mae},ignore_index=True)"
   ]
  },
  {
   "cell_type": "code",
   "execution_count": null,
   "metadata": {},
   "outputs": [],
   "source": [
    "df_resultados"
   ]
  },
  {
   "cell_type": "markdown",
   "metadata": {},
   "source": [
    "# Modelo 2: Regresion lineal (Features polinomicas grado 5)\n"
   ]
  },
  {
   "cell_type": "code",
   "execution_count": null,
   "metadata": {},
   "outputs": [],
   "source": [
    "#Usamos los mismos parametros para este nuevo GS.\n",
    "gs = GridSearchCV(est, param_grid=parameters,refit=True, cv=n_folds, scoring=\"neg_mean_squared_error\")\n",
    "#Entrenamos\n",
    "gs.fit(x_train_poly_scaled, y_train)\n",
    "# Mostramos el mejor estimador, sus hyperparametros seleccionados y su resultado\n",
    "print(gs.best_estimator_, \"\\n\")\n",
    "print(gs.best_params_, \"\\n\")\n",
    "print(gs.best_score_, \"\\n\")"
   ]
  },
  {
   "cell_type": "code",
   "execution_count": null,
   "metadata": {},
   "outputs": [],
   "source": [
    "# Predecimos para el set polinomico\n",
    "poly_linear_prediction = gs.best_estimator_.predict(x_test_poly_scaled)\n",
    "# Calculamos las metricas R2,MSE y MAE\n",
    "poly_linear_r2 = r2_score(y_true=y_test, y_pred=poly_linear_prediction)\n",
    "poly_linear_mse = mean_squared_error(y_true=y_test, y_pred=poly_linear_prediction)\n",
    "poly_linear_mae = mean_absolute_error(y_true=y_test, y_pred=poly_linear_prediction)\n",
    "#Vamos a plotear Predictions vs True values del set polinomico\n",
    "plt.scatter(poly_linear_prediction, y_test)\n",
    "plt.plot(np.arange(0,100),np.arange(0,100), 'r', label='Identity')\n",
    "plt.xlabel('Predictions')\n",
    "plt.ylabel('True Values')\n",
    "plt.legend()\n",
    "print(f'R2 score: {poly_linear_r2:.6f}')\n",
    "print(f'MAE: {poly_linear_mse:.6f}')\n",
    "print(f'MSE: {poly_linear_mae:.6f}')"
   ]
  },
  {
   "cell_type": "code",
   "execution_count": null,
   "metadata": {},
   "outputs": [],
   "source": [
    "df_resultados = df_resultados.append({'Model':'Linear',\n",
    "                                'Features':'Polinom grado 5',\n",
    "                                'R2':poly_linear_r2,\n",
    "                                'MSE':poly_linear_mse,\n",
    "                                'MAE':poly_linear_mae},ignore_index=True)"
   ]
  },
  {
   "cell_type": "code",
   "execution_count": null,
   "metadata": {},
   "outputs": [],
   "source": [
    "df_resultados"
   ]
  },
  {
   "cell_type": "markdown",
   "metadata": {},
   "source": [
    "# Modelo 3: Regresion lineal (features polinomicas grado 3)"
   ]
  },
  {
   "cell_type": "code",
   "execution_count": null,
   "metadata": {},
   "outputs": [],
   "source": [
    " # Agrego las features polinomicas (posterior al scaler)\n",
    "# Elijo grado 3\n",
    "grad_poly = 3\n",
    "\n",
    "x_train_poly_scaled= PolynomialFeatures(grad_poly).fit_transform(x_train_scaled)\n",
    "x_test_poly_scaled = PolynomialFeatures(grad_poly).fit_transform(x_test_scaled)"
   ]
  },
  {
   "cell_type": "code",
   "execution_count": null,
   "metadata": {},
   "outputs": [],
   "source": [
    "#Comparo cuantas columnas se agregaron por las features polinomicas\n",
    "print(x_train_scaled.shape)\n",
    "print(x_train_poly_scaled.shape)"
   ]
  },
  {
   "cell_type": "code",
   "execution_count": null,
   "metadata": {},
   "outputs": [],
   "source": [
    "# Separamos el set X con las features polinomicas (el set Y ya fue separado en la linea anterior) \n",
    "x_poly_train, x_poly_test = train_test_split(x, test_size=0.25, random_state=1)"
   ]
  },
  {
   "cell_type": "code",
   "execution_count": null,
   "metadata": {},
   "outputs": [],
   "source": [
    "#Usamos los mismos parametros para este nuevo GS.\n",
    "gs = GridSearchCV(est, param_grid=parameters,refit=True, cv=n_folds, scoring=\"neg_mean_squared_error\")\n",
    "#Entrenamos\n",
    "gs.fit(x_train_poly_scaled, y_train)\n",
    "# Mostramos el mejor estimador, sus hyperparametros seleccionados y su resultado\n",
    "print(gs.best_estimator_, \"\\n\")\n",
    "print(gs.best_params_, \"\\n\")\n",
    "print(gs.best_score_, \"\\n\")\n"
   ]
  },
  {
   "cell_type": "code",
   "execution_count": null,
   "metadata": {},
   "outputs": [],
   "source": [
    "# Predecimos para el set polinomico\n",
    "poly_linear_prediction = gs.best_estimator_.predict(x_test_poly_scaled)\n",
    "# Calculamos las metricas R2,MSE y MAE\n",
    "poly_linear_r2 = r2_score(y_true=y_test, y_pred=poly_linear_prediction)\n",
    "poly_linear_mse = mean_squared_error(y_true=y_test, y_pred=poly_linear_prediction)\n",
    "poly_linear_mae = mean_absolute_error(y_true=y_test, y_pred=poly_linear_prediction)\n",
    "#Vamos a plotear Predictions vs True values del set polinomico\n",
    "plt.scatter(poly_linear_prediction, y_test)\n",
    "plt.plot(np.arange(0,100),np.arange(0,100), 'r', label='Identity')\n",
    "plt.xlabel('Predictions')\n",
    "plt.ylabel('True Values')\n",
    "plt.legend()\n",
    "print(f'R2 score: {poly_linear_r2:.6f}')\n",
    "print(f'MAE: {poly_linear_mse:.6f}')\n",
    "print(f'MSE: {poly_linear_mae:.6f}')"
   ]
  },
  {
   "cell_type": "code",
   "execution_count": null,
   "metadata": {},
   "outputs": [],
   "source": [
    "df_resultados = df_resultados.append({'Model':'Linear',\n",
    "                                'Features':'Polinom grado 3',\n",
    "                                'R2':poly_linear_r2,\n",
    "                                'MSE':poly_linear_mse,\n",
    "                                'MAE':poly_linear_mae},ignore_index=True)\n",
    "\n",
    "df_resultados"
   ]
  },
  {
   "cell_type": "markdown",
   "metadata": {},
   "source": [
    "# Modelo 4: Regresion lineal (features polinomicas grado 2)"
   ]
  },
  {
   "cell_type": "code",
   "execution_count": null,
   "metadata": {},
   "outputs": [],
   "source": [
    " # Agrego las features polinomicas (posterior al scaler)\n",
    "# Elijo grado 2\n",
    "grad_poly = 2\n",
    "\n",
    "x_train_poly_scaled= PolynomialFeatures(grad_poly).fit_transform(x_train_scaled)\n",
    "x_test_poly_scaled = PolynomialFeatures(grad_poly).fit_transform(x_test_scaled)"
   ]
  },
  {
   "cell_type": "code",
   "execution_count": null,
   "metadata": {},
   "outputs": [],
   "source": [
    "# Separamos el set X con las features polinomicas (el set Y ya fue separado en la linea anterior) \n",
    "x_poly_train, x_poly_test = train_test_split(x, test_size=0.25, random_state=1)"
   ]
  },
  {
   "cell_type": "code",
   "execution_count": null,
   "metadata": {},
   "outputs": [],
   "source": [
    "#Usamos los mismos parametros para este nuevo GS.\n",
    "gs = GridSearchCV(est, param_grid=parameters,refit=True, cv=n_folds, scoring=\"neg_mean_squared_error\")\n",
    "#Entrenamos\n",
    "gs.fit(x_train_poly_scaled, y_train)\n",
    "# Mostramos el mejor estimador, sus hyperparametros seleccionados y su resultado\n",
    "print(gs.best_estimator_, \"\\n\")\n",
    "print(gs.best_params_, \"\\n\")\n",
    "print(gs.best_score_, \"\\n\")"
   ]
  },
  {
   "cell_type": "code",
   "execution_count": null,
   "metadata": {},
   "outputs": [],
   "source": [
    "# Predecimos para el set polinomico\n",
    "poly_linear_prediction = gs.best_estimator_.predict(x_test_poly_scaled)\n",
    "# Calculamos las metricas R2,MSE y MAE\n",
    "poly_linear_r2 = r2_score(y_true=y_test, y_pred=poly_linear_prediction)\n",
    "poly_linear_mse = mean_squared_error(y_true=y_test, y_pred=poly_linear_prediction)\n",
    "poly_linear_mae = mean_absolute_error(y_true=y_test, y_pred=poly_linear_prediction)\n",
    "#Vamos a plotear Predictions vs True values del set polinomico\n",
    "plt.scatter(poly_linear_prediction, y_test)\n",
    "plt.plot(np.arange(0,100),np.arange(0,100), 'r', label='Identity')\n",
    "plt.xlabel('Predictions')\n",
    "plt.ylabel('True Values')\n",
    "plt.legend()\n",
    "print(f'R2 score: {poly_linear_r2:.6f}')\n",
    "print(f'MAE: {poly_linear_mse:.6f}')\n",
    "print(f'MSE: {poly_linear_mae:.6f}')"
   ]
  },
  {
   "cell_type": "code",
   "execution_count": null,
   "metadata": {},
   "outputs": [],
   "source": [
    "df_resultados = df_resultados.append({'Model':'Linear',\n",
    "                                'Features':'Polinom grado 2',\n",
    "                                'R2':poly_linear_r2,\n",
    "                                'MSE':poly_linear_mse,\n",
    "                                'MAE':poly_linear_mae},ignore_index=True)\n",
    "\n",
    "df_resultados"
   ]
  },
  {
   "cell_type": "markdown",
   "metadata": {},
   "source": [
    "# Modelo 5: Regresion Ridge (features lineales)"
   ]
  },
  {
   "cell_type": "code",
   "execution_count": null,
   "metadata": {},
   "outputs": [],
   "source": [
    "est = Ridge()\n",
    "# Lista del parametro lambda (llamado 'alpha' en el GridSearch )\n",
    "lambdas = [0.01,0.02,0.03,0.04,0.05,0.1,0.2,0.3,0.4,0.5,1]\n",
    "# Juntamos el diccionario de parametros\n",
    "parameters = {'alpha': lambdas}\n",
    "# Definimos nuevamente el objeto GS con los parametros previamente definidos\n",
    "gs = GridSearchCV(est, param_grid=parameters,refit=True, cv=n_folds, scoring=\"neg_mean_squared_error\")\n"
   ]
  },
  {
   "cell_type": "code",
   "execution_count": null,
   "metadata": {},
   "outputs": [],
   "source": [
    "# Entrenamos\n",
    "gs.fit(x_train_scaled, y_train)"
   ]
  },
  {
   "cell_type": "code",
   "execution_count": null,
   "metadata": {},
   "outputs": [],
   "source": [
    "# Mostramos el mejor estimador, sus hyperparametros seleccionados y su resultado\n",
    "print(gs.best_estimator_, \"\\n\")\n",
    "print(gs.best_params_, \"\\n\")\n",
    "print(gs.best_score_, \"\\n\")"
   ]
  },
  {
   "cell_type": "code",
   "execution_count": null,
   "metadata": {},
   "outputs": [],
   "source": [
    "# Vamos a plotear nuestro parametro lambda vs. el score\n",
    "fit_lambdas = [d['alpha'] for d in gs.cv_results_['params']]\n",
    "fit_scores = gs.cv_results_['mean_test_score']\n",
    "fig, ax = plt.subplots(1,1, figsize=(10,6))\n",
    "ax.plot(fit_lambdas, -fit_scores, ls='-', marker='o')\n",
    "ax.set_xscale('log')\n",
    "ax.set_yscale('log')\n",
    "ax.set_xlabel('$\\lambda$')\n",
    "ax.set_ylabel('scores');"
   ]
  },
  {
   "cell_type": "code",
   "execution_count": null,
   "metadata": {},
   "outputs": [],
   "source": [
    "#Predicciones + Metricas\n",
    "ridge_prediction = gs.best_estimator_.predict(x_test_scaled)\n",
    "ridge_r2 = r2_score(y_true=y_test, y_pred=ridge_prediction)\n",
    "ridge_mse = mean_squared_error(y_true=y_test, y_pred=ridge_prediction)\n",
    "ridge_mae = mean_absolute_error(y_true=y_test, y_pred=ridge_prediction)"
   ]
  },
  {
   "cell_type": "code",
   "execution_count": null,
   "metadata": {},
   "outputs": [],
   "source": [
    "print(gs.best_estimator_, \"\\n\")\n",
    "print(gs.best_params_, \"\\n\")\n",
    "print(gs.best_score_, \"\\n\")"
   ]
  },
  {
   "cell_type": "code",
   "execution_count": null,
   "metadata": {},
   "outputs": [],
   "source": [
    "# Plots\n",
    "plt.scatter(ridge_prediction, y_test)\n",
    "plt.plot(np.arange(0,100),np.arange(0,100), 'r', label='Identity')\n",
    "plt.xlabel('Predictions')\n",
    "plt.ylabel('True Values')\n",
    "plt.legend()\n",
    "print(f'R2 score: {ridge_r2:.6f}')\n",
    "print(f'MAE: {ridge_mae:.6f}')\n",
    "print(f'MSE: {ridge_mse:.6f}')"
   ]
  },
  {
   "cell_type": "code",
   "execution_count": null,
   "metadata": {},
   "outputs": [],
   "source": [
    "\n",
    "df_resultados = df_resultados.append({'Model':'Ridge',\n",
    "                                'Features':'Lineal',\n",
    "                                'R2':ridge_r2,\n",
    "                                'MSE':ridge_mse,\n",
    "                                'MAE':ridge_mae},ignore_index=True)\n",
    "\n",
    "df_resultados"
   ]
  },
  {
   "cell_type": "markdown",
   "metadata": {},
   "source": [
    "# Modelo 6: Regresion Ridge (features polinomicas)"
   ]
  },
  {
   "cell_type": "code",
   "execution_count": null,
   "metadata": {},
   "outputs": [],
   "source": [
    "\n",
    "# defino de nuevo las polinomicas\n",
    "grad_poly = 5\n",
    "x_train_poly_scaled = PolynomialFeatures(grad_poly).fit_transform(x_train_scaled)\n",
    "x_test_poly_scaled = PolynomialFeatures(grad_poly).fit_transform(x_test_scaled)\n",
    "\n",
    "\n",
    "x_train_poly_scaled.shape"
   ]
  },
  {
   "cell_type": "code",
   "execution_count": null,
   "metadata": {},
   "outputs": [],
   "source": [
    "\n",
    "#Definimos estimador\n",
    "est = Ridge()\n",
    "#Defini\n",
    "gs = GridSearchCV(est, param_grid=parameters,refit=True, cv=n_folds, scoring=\"neg_mean_squared_error\")\n",
    "gs.fit(x_train_poly_scaled, y_train)\n",
    "print(gs.best_estimator_, \"\\n\")\n",
    "print(gs.best_params_, \"\\n\")\n",
    "print(gs.best_score_, \"\\n\")"
   ]
  },
  {
   "cell_type": "code",
   "execution_count": null,
   "metadata": {},
   "outputs": [],
   "source": [
    "#Entrenamos\n",
    "gs.fit(x_train_poly_scaled, y_train)"
   ]
  },
  {
   "cell_type": "code",
   "execution_count": null,
   "metadata": {},
   "outputs": [],
   "source": [
    "# Mostramos el mejor estimador, sus hyperparametros seleccionados y su resultado\n",
    "print(gs.best_estimator_, \"\\n\")\n",
    "print(gs.best_params_, \"\\n\")\n",
    "print(gs.best_score_, \"\\n\")"
   ]
  },
  {
   "cell_type": "code",
   "execution_count": null,
   "metadata": {},
   "outputs": [],
   "source": [
    "# Vamos a plotear nuestro parametro lambda vs. el score\n",
    "fit_lambdas = [d['alpha'] for d in gs.cv_results_['params']]\n",
    "fit_scores = gs.cv_results_['mean_test_score']\n",
    "fig, ax = plt.subplots(1,1, figsize=(10,6))\n",
    "ax.plot(fit_lambdas, -fit_scores, ls='-', marker='o')\n",
    "ax.set_xscale('log')\n",
    "ax.set_yscale('log')\n",
    "ax.set_xlabel('$\\lambda$')\n",
    "ax.set_ylabel('scores');"
   ]
  },
  {
   "cell_type": "code",
   "execution_count": null,
   "metadata": {},
   "outputs": [],
   "source": [
    "# Prediccion + Metricas\n",
    "poly_ridge_prediction = gs.best_estimator_.predict(x_test_poly_scaled)\n",
    "poly_ridge_r2 = r2_score(y_true=y_test, y_pred=poly_ridge_prediction)\n",
    "poly_ridge_mse = mean_squared_error(y_true=y_test, y_pred=poly_ridge_prediction)\n",
    "poly_ridge_mae = mean_absolute_error(y_true=y_test, y_pred=poly_ridge_prediction)"
   ]
  },
  {
   "cell_type": "code",
   "execution_count": null,
   "metadata": {},
   "outputs": [],
   "source": [
    "# Plots\n",
    "plt.scatter(poly_ridge_prediction, y_test)\n",
    "plt.plot(np.arange(0,100),np.arange(0,100), 'r', label='Identity')\n",
    "plt.xlabel('Predictions')\n",
    "plt.ylabel('True Values')\n",
    "plt.legend()\n",
    "print(f'R2 score: {poly_ridge_r2:.6f}')\n",
    "print(f'MAE: {poly_ridge_mae:.6f}')\n",
    "print(f'MSE: {poly_ridge_mse:.6f}')"
   ]
  },
  {
   "cell_type": "code",
   "execution_count": null,
   "metadata": {},
   "outputs": [],
   "source": [
    "# Guardamos\n",
    "df_resultados = df_resultados.append({'Model':'Ridge',\n",
    "                                'Features':'Polinom grado 5',\n",
    "                                'R2':poly_ridge_r2,\n",
    "                                'MSE':poly_ridge_mse,\n",
    "                                'MAE':poly_ridge_mae},ignore_index=True)\n",
    "df_resultados"
   ]
  },
  {
   "cell_type": "markdown",
   "metadata": {},
   "source": [
    "# Decision final modelo"
   ]
  },
  {
   "cell_type": "code",
   "execution_count": 17,
   "metadata": {},
   "outputs": [],
   "source": [
    "#Estimador\n",
    "est = LinearRegression()\n",
    "#Hyperparametros, solo el fit_intercept\n",
    "parameters = {'fit_intercept' : [False, True]}\n",
    "#Folds para cv\n",
    "n_folds = 5"
   ]
  },
  {
   "cell_type": "code",
   "execution_count": 18,
   "metadata": {},
   "outputs": [],
   "source": [
    " # Agrego las features polinomicas (posterior al scaler)\n",
    "# Elijo grado 3\n",
    "grad_poly = 3\n",
    "\n",
    "x_train_poly_scaled= PolynomialFeatures(grad_poly).fit_transform(x_train_scaled)\n",
    "x_test_poly_scaled = PolynomialFeatures(grad_poly).fit_transform(x_test_scaled)"
   ]
  },
  {
   "cell_type": "code",
   "execution_count": 19,
   "metadata": {},
   "outputs": [],
   "source": [
    "# Separamos el set X con las features polinomicas (el set Y ya fue separado en la linea anterior) \n",
    "x_poly_train, x_poly_test = train_test_split(x, test_size=0.25, random_state=1)"
   ]
  },
  {
   "cell_type": "code",
   "execution_count": 20,
   "metadata": {},
   "outputs": [
    {
     "name": "stdout",
     "output_type": "stream",
     "text": [
      "LinearRegression(copy_X=True, fit_intercept=False, n_jobs=None, normalize=False) \n",
      "\n",
      "{'fit_intercept': False} \n",
      "\n",
      "-0.5362646178154453 \n",
      "\n"
     ]
    }
   ],
   "source": [
    "#Usamos los mismos parametros para este nuevo GS.\n",
    "gs = GridSearchCV(est, param_grid=parameters,refit=True, cv=n_folds, scoring=\"neg_mean_squared_error\")\n",
    "#Entrenamos\n",
    "gs.fit(x_train_poly_scaled, y_train)\n",
    "# Mostramos el mejor estimador, sus hyperparametros seleccionados y su resultado\n",
    "print(gs.best_estimator_, \"\\n\")\n",
    "print(gs.best_params_, \"\\n\")\n",
    "print(gs.best_score_, \"\\n\")\n",
    "# Predecimos para el set polinomico\n",
    "poly_linear_prediction = gs.best_estimator_.predict(x_test_poly_scaled)\n",
    "# Calculamos las metricas R2,MSE y MAE\n",
    "poly_linear_r2 = r2_score(y_true=y_test, y_pred=poly_linear_prediction)\n",
    "poly_linear_mse = mean_squared_error(y_true=y_test, y_pred=poly_linear_prediction)\n",
    "poly_linear_mae = mean_absolute_error(y_true=y_test, y_pred=poly_linear_prediction)"
   ]
  },
  {
   "cell_type": "code",
   "execution_count": 22,
   "metadata": {},
   "outputs": [],
   "source": [
    "#Paso el xpred a polinomica\n",
    "grad_poly = 3\n",
    "\n",
    "x_pre_poly_scaled = PolynomialFeatures(grad_poly).fit_transform(x_pre)\n",
    "\n",
    "# Calculamos las metricas R2,MSE y MAE\n",
    "poly_linear_r2 = r2_score(y_true=y_test, y_pred=poly_linear_prediction)\n",
    "poly_linear_mse = mean_squared_error(y_true=y_test, y_pred=poly_linear_prediction)\n",
    "poly_linear_mae = mean_absolute_error(y_true=y_test, y_pred=poly_linear_prediction)"
   ]
  },
  {
   "cell_type": "code",
   "execution_count": 27,
   "metadata": {},
   "outputs": [],
   "source": [
    "poly_linear_prediction = gs.best_estimator_.predict(x_pre_poly_scaled)"
   ]
  },
  {
   "cell_type": "code",
   "execution_count": 25,
   "metadata": {},
   "outputs": [
    {
     "data": {
      "text/plain": [
       "array([1.37358939e+04, 1.47078447e+04, 4.12144892e+04, 5.07053568e+02,\n",
       "       8.21906945e+02, 1.67166983e+04, 3.83233134e+04, 3.41005753e+00,\n",
       "       4.80682535e+04, 7.86970183e+02, 1.57057780e+03, 1.55907198e+04,\n",
       "       4.86933879e+04, 3.56872060e+00, 5.53180732e+03, 3.30881699e+04,\n",
       "       6.71110242e+03, 1.26308057e+04, 2.21066856e+04, 1.45405333e+04])"
      ]
     },
     "execution_count": 25,
     "metadata": {},
     "output_type": "execute_result"
    }
   ],
   "source": [
    "poly_linear_prediction"
   ]
  },
  {
   "cell_type": "code",
   "execution_count": 32,
   "metadata": {},
   "outputs": [],
   "source": [
    "\n",
    "d = poly_linear_prediction**(1 / 3)"
   ]
  },
  {
   "cell_type": "code",
   "execution_count": 33,
   "metadata": {},
   "outputs": [
    {
     "data": {
      "text/plain": [
       "array([23.94890394, 24.50095497, 34.54219838,  7.97415392,  9.36715162,\n",
       "       25.56918203, 33.71483332,  1.50517583, 36.35962936,  9.23250233,\n",
       "       11.62393443, 24.98170384, 36.51657167,  1.52816711, 17.68570384,\n",
       "       32.10388436, 18.86244366, 23.28861629, 28.06561383, 24.40769561])"
      ]
     },
     "execution_count": 33,
     "metadata": {},
     "output_type": "execute_result"
    }
   ],
   "source": [
    "\n",
    "d"
   ]
  },
  {
   "cell_type": "code",
   "execution_count": null,
   "metadata": {},
   "outputs": [],
   "source": []
  }
 ],
 "metadata": {
  "kernelspec": {
   "display_name": "Python 3",
   "language": "python",
   "name": "python3"
  },
  "language_info": {
   "codemirror_mode": {
    "name": "ipython",
    "version": 3
   },
   "file_extension": ".py",
   "mimetype": "text/x-python",
   "name": "python",
   "nbconvert_exporter": "python",
   "pygments_lexer": "ipython3",
   "version": "3.7.3"
  }
 },
 "nbformat": 4,
 "nbformat_minor": 2
}
